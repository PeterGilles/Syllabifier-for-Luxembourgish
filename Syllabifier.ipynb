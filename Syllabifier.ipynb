{
 "cells": [
  {
   "cell_type": "code",
   "execution_count": 1,
   "metadata": {},
   "outputs": [],
   "source": [
    "import syllabifier\n",
    "language = syllabifier.Luxembourgish"
   ]
  },
  {
   "cell_type": "code",
   "execution_count": 4,
   "metadata": {},
   "outputs": [],
   "source": [
    "syllables = syllabifier.syllabify(language, \"ʃ ɑ̃ː m b ɐ s p ʀ e z i d æ n t i n ə n\")\n",
    "\n",
    "# some test words\n",
    "# æ p ə l t ɛːɐ t ɐ ɕ ɐ\n",
    "# ɑ p ʀ o v i z i̯ o n ɜɪ ə ʀ ə n\n",
    "# ʃ ɑ̃ː m b ɐ s p ʀ e z i d æ n t i n ə n\n",
    "# k ɑ ʀ ɑ k t ə ʀ eː ʑ ə n ʃ ɑ f t ə n\n",
    "# k ɑ ʀ i s m aː\n",
    "# ʃ i m iː s p ʀ o f æ s oː ʀ i n ə n\n",
    "# ɕ i ʀ u ʀ ʑ i n ə n\n",
    "# k w ɑ f œː ʀ s s ɑ l ɑ̃ː\n",
    "# d e k l ɑ ʀ ɑ ts i̯ əʊ n ə n\n",
    "# d ʀ oː ɡ ə ʃ t ɑ t i s t i k\n",
    "# d ʀ ə p s ə\n",
    "# ʃ o ŋ ʃ t ʀ e k ə l\n",
    "# e ʃ ɑ̃ː t i̯ ɑ̃ː\n"
   ]
  },
  {
   "cell_type": "code",
   "execution_count": 5,
   "metadata": {},
   "outputs": [
    {
     "name": "stdout",
     "output_type": "stream",
     "text": [
      "ʃ ɑ̃ː m\n",
      "b ɐ s\n",
      "p ʀ e \n",
      "z i \n",
      "d æ n\n",
      "t i \n",
      "n ə n\n"
     ]
    }
   ],
   "source": [
    "for stress, onset, nucleus, coda in syllables :\n",
    "   print(\" \".join(onset), \" \".join(nucleus), \" \".join(coda))"
   ]
  },
  {
   "cell_type": "code",
   "execution_count": null,
   "metadata": {},
   "outputs": [],
   "source": []
  }
 ],
 "metadata": {
  "kernelspec": {
   "display_name": "Python 3",
   "language": "python",
   "name": "python3"
  },
  "language_info": {
   "codemirror_mode": {
    "name": "ipython",
    "version": 3
   },
   "file_extension": ".py",
   "mimetype": "text/x-python",
   "name": "python",
   "nbconvert_exporter": "python",
   "pygments_lexer": "ipython3",
   "version": "3.7.7"
  },
  "toc": {
   "base_numbering": 1,
   "nav_menu": {},
   "number_sections": true,
   "sideBar": true,
   "skip_h1_title": false,
   "title_cell": "Table of Contents",
   "title_sidebar": "Contents",
   "toc_cell": false,
   "toc_position": {},
   "toc_section_display": true,
   "toc_window_display": false
  },
  "varInspector": {
   "cols": {
    "lenName": 16,
    "lenType": 16,
    "lenVar": 40
   },
   "kernels_config": {
    "python": {
     "delete_cmd_postfix": "",
     "delete_cmd_prefix": "del ",
     "library": "var_list.py",
     "varRefreshCmd": "print(var_dic_list())"
    },
    "r": {
     "delete_cmd_postfix": ") ",
     "delete_cmd_prefix": "rm(",
     "library": "var_list.r",
     "varRefreshCmd": "cat(var_dic_list()) "
    }
   },
   "types_to_exclude": [
    "module",
    "function",
    "builtin_function_or_method",
    "instance",
    "_Feature"
   ],
   "window_display": false
  }
 },
 "nbformat": 4,
 "nbformat_minor": 4
}
